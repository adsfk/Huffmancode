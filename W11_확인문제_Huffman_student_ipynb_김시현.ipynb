{
  "nbformat": 4,
  "nbformat_minor": 0,
  "metadata": {
    "colab": {
      "provenance": []
    },
    "kernelspec": {
      "name": "python3",
      "display_name": "Python 3"
    },
    "language_info": {
      "name": "python"
    }
  },
  "cells": [
    {
      "cell_type": "markdown",
      "source": [
        "# 다음 표의 캐릭터와 빈도수로 얻어진 값을 호프만 코드로 만드는 파이썬 클래스 HuffmanNode 를 작성하라. 아래 클래스 틀을 활용하라."
      ],
      "metadata": {
        "id": "F7LD3FpdYEfH"
      }
    },
    {
      "cell_type": "code",
      "execution_count": 6,
      "metadata": {
        "id": "F44QErMjYBo-",
        "colab": {
          "base_uri": "https://localhost:8080/"
        },
        "outputId": "bacbbc61-8a68-46de-f301-63b2a08e37b2"
      },
      "outputs": [
        {
          "output_type": "stream",
          "name": "stdout",
          "text": [
            "Huffman Codes for the given frequencies:\n",
            "!: 000\n",
            "@: 001\n",
            "#: 01\n",
            "$: 10\n",
            "%: 11\n"
          ]
        }
      ],
      "source": [
        "class HuffmanNode:\n",
        "    def __init__(self, frequency, symbol=None, left=None, right=None):\n",
        "        self.frequency = frequency\n",
        "        self.symbol = symbol\n",
        "        self.left = left\n",
        "        self.right = right\n",
        "\n",
        "    # Helper method to check if a node is a leaf (has no children)\n",
        "\n",
        "\n",
        "class HuffmanCoding:\n",
        "    def __init__(self, frequencies): # frequencies -> dict, with char: freq\n",
        "        # Initialize with a list of Huffman nodes for each character\n",
        "        self.nodes = [HuffmanNode(freq, symbol) for symbol, freq in frequencies.items()]\n",
        "        self.codes = {}\n",
        "\n",
        "    def small_nodes(self):\n",
        "        self.nodes=sorted(self.nodes, key=lambda node: node.frequency)\n",
        "        return [self.nodes[0], self.nodes[1]]\n",
        "\n",
        "    def is_leaf(self, node):\n",
        "        return node.left is None and node.right is None\n",
        "\n",
        "    def get_codes(self):\n",
        "        while len(self.nodes)>1:\n",
        "          l, r = self.small_nodes()\n",
        "          self.nodes.remove(l)\n",
        "          self.nodes.remove(r)\n",
        "          new_node= HuffmanNode(l.frequency+r.frequency, None, l, r)\n",
        "          self.nodes.append(new_node)\n",
        "        root = self.nodes[0]\n",
        "        self.generate_codes(root, \"\")\n",
        "        return self.codes\n",
        "\n",
        "    def generate_codes(self, node=None, current_code=\"\"):\n",
        "\n",
        "        if node is None:\n",
        "            node = self.nodes[0]\n",
        "\n",
        "        if self.is_leaf(node):\n",
        "            self.codes[node.symbol] = current_code\n",
        "            return\n",
        "\n",
        "        self.generate_codes(node.left, current_code + \"0\") # 왼쪽 노드로 돌아가면서 0 추가\n",
        "        self.generate_codes(node.right, current_code + \"1\") # 오른쪽 노드로 돌아가면서 1 추가\n",
        "\n",
        "# Example usage\n",
        "if __name__ == \"__main__\":\n",
        "    # Input frequencies as per Table 9.1.2\n",
        "    frequencies = {\n",
        "        '!': 2,\n",
        "        '@': 3,\n",
        "        '#': 7,\n",
        "        '$': 8,\n",
        "        '%': 12\n",
        "    }\n",
        "\n",
        "    # Create HuffmanCoding instance and get the codes\n",
        "    huffman_coding = HuffmanCoding(frequencies)\n",
        "    codes = huffman_coding.get_codes()\n",
        "\n",
        "    # Output the resulting Huffman codes\n",
        "    print(\"Huffman Codes for the given frequencies:\")\n",
        "    for symbol, code in codes.items():\n",
        "        print(f\"{symbol}: {code}\")"
      ]
    },
    {
      "cell_type": "code",
      "source": [],
      "metadata": {
        "id": "LsS9TXTlvW7F"
      },
      "execution_count": null,
      "outputs": []
    }
  ]
}